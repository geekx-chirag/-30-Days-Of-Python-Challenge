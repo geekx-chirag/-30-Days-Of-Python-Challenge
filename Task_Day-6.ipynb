{
 "cells": [
  {
   "cell_type": "markdown",
   "id": "4e003f2e",
   "metadata": {},
   "source": [
    "# Day-06: Modules and Packages\n",
    "\n",
    "# Topics - Importing modules (math, random), creating custom modules"
   ]
  },
  {
   "cell_type": "markdown",
   "id": "2183e9d5",
   "metadata": {},
   "source": [
    "# Importing modules (math, random) :"
   ]
  },
  {
   "cell_type": "code",
   "execution_count": 2,
   "id": "21714ee4",
   "metadata": {},
   "outputs": [
    {
     "name": "stdout",
     "output_type": "stream",
     "text": [
      "5.0\n"
     ]
    }
   ],
   "source": [
    "import math\n",
    "\n",
    "print(math.sqrt(25))              "
   ]
  },
  {
   "cell_type": "code",
   "execution_count": 10,
   "id": "3af3d8de",
   "metadata": {},
   "outputs": [
    {
     "name": "stdout",
     "output_type": "stream",
     "text": [
      "B\n"
     ]
    }
   ],
   "source": [
    "import random\n",
    "\n",
    "print(random.choice([\"R\",\"G\",\"B\"]))"
   ]
  },
  {
   "cell_type": "markdown",
   "id": "9e119c9c",
   "metadata": {},
   "source": [
    "# Creating custom modules"
   ]
  },
  {
   "cell_type": "code",
   "execution_count": 14,
   "id": "4398375d",
   "metadata": {},
   "outputs": [
    {
     "name": "stdout",
     "output_type": "stream",
     "text": [
      "Hello, Chirag!\n"
     ]
    }
   ],
   "source": [
    "# main.py\n",
    "\n",
    "import mymodule\n",
    "\n",
    "print(mymodule.greet(\"Chirag\"))  # Output: Hello, Chirag!\n"
   ]
  }
 ],
 "metadata": {
  "kernelspec": {
   "display_name": "base",
   "language": "python",
   "name": "python3"
  },
  "language_info": {
   "codemirror_mode": {
    "name": "ipython",
    "version": 3
   },
   "file_extension": ".py",
   "mimetype": "text/x-python",
   "name": "python",
   "nbconvert_exporter": "python",
   "pygments_lexer": "ipython3",
   "version": "3.12.7"
  }
 },
 "nbformat": 4,
 "nbformat_minor": 5
}
