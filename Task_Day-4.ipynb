{
 "cells": [
  {
   "cell_type": "markdown",
   "id": "73ecaab2",
   "metadata": {},
   "source": [
    "# Day-04 : Control Structure\n",
    "\n",
    "# Topics - If-else, for/while loops, break/continue"
   ]
  },
  {
   "cell_type": "markdown",
   "id": "351fd2aa",
   "metadata": {},
   "source": [
    "# If-else :"
   ]
  },
  {
   "cell_type": "code",
   "execution_count": 4,
   "id": "f50971f5",
   "metadata": {},
   "outputs": [
    {
     "name": "stdout",
     "output_type": "stream",
     "text": [
      "You are eligible to vote.\n"
     ]
    }
   ],
   "source": [
    "age = 18\n",
    "if age >= 18:\n",
    "    print(\"You are eligible to vote.\")\n",
    "else:\n",
    "    print(\"You are not eligible to vote.\")"
   ]
  },
  {
   "cell_type": "markdown",
   "id": "c24e8a11",
   "metadata": {},
   "source": [
    "# For/while loops :"
   ]
  },
  {
   "cell_type": "code",
   "execution_count": 7,
   "id": "14dc0379",
   "metadata": {},
   "outputs": [
    {
     "name": "stdout",
     "output_type": "stream",
     "text": [
      "Number: 1\n",
      "Number: 2\n"
     ]
    }
   ],
   "source": [
    "for i in range(1, 3):\n",
    "    print(\"Number:\", i)"
   ]
  },
  {
   "cell_type": "code",
   "execution_count": 8,
   "id": "5378d231",
   "metadata": {},
   "outputs": [
    {
     "name": "stdout",
     "output_type": "stream",
     "text": [
      "Count is: 1\n",
      "Count is: 2\n",
      "Count is: 3\n"
     ]
    }
   ],
   "source": [
    "count = 1\n",
    "while count <= 3:\n",
    "    print(\"Count is:\", count)\n",
    "    count += 1"
   ]
  },
  {
   "cell_type": "markdown",
   "id": "a378741e",
   "metadata": {},
   "source": [
    "# Break/continue :"
   ]
  },
  {
   "cell_type": "code",
   "execution_count": 13,
   "id": "68915ac9",
   "metadata": {},
   "outputs": [
    {
     "name": "stdout",
     "output_type": "stream",
     "text": [
      "1\n",
      "2\n",
      "3\n",
      "---\n",
      "1\n",
      "2\n",
      "3\n",
      "5\n"
     ]
    }
   ],
   "source": [
    "for i in range(1, 10):\n",
    "    if i == 4:\n",
    "        break\n",
    "    print(i)  # Stops at 4\n",
    "\n",
    "print(\"---\")\n",
    "\n",
    "for i in range(1, 6):\n",
    "    if i == 4:\n",
    "        continue\n",
    "    print(i)  # Skips 3\n"
   ]
  },
  {
   "cell_type": "markdown",
   "id": "44604894",
   "metadata": {},
   "source": [
    "# Challenge : Check if a user-entered number is prime "
   ]
  },
  {
   "cell_type": "code",
   "execution_count": 15,
   "id": "4c02c8ff",
   "metadata": {},
   "outputs": [
    {
     "name": "stdout",
     "output_type": "stream",
     "text": [
      "Prime number\n"
     ]
    }
   ],
   "source": [
    "num = int(input(\"Enter a number: \"))    # 7\n",
    "\n",
    "if num <= 1:\n",
    "    print(\"Not a prime number\")\n",
    "else:\n",
    "    for i in range(2, int(num**0.5) + 1):\n",
    "        if num % i == 0:\n",
    "            print(\"Not a prime number\")\n",
    "            break\n",
    "    else:\n",
    "        print(\"Prime number\")\n"
   ]
  }
 ],
 "metadata": {
  "kernelspec": {
   "display_name": "base",
   "language": "python",
   "name": "python3"
  },
  "language_info": {
   "codemirror_mode": {
    "name": "ipython",
    "version": 3
   },
   "file_extension": ".py",
   "mimetype": "text/x-python",
   "name": "python",
   "nbconvert_exporter": "python",
   "pygments_lexer": "ipython3",
   "version": "3.12.7"
  }
 },
 "nbformat": 4,
 "nbformat_minor": 5
}
