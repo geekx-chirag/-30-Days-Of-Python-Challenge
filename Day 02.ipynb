{
 "cells": [
  {
   "cell_type": "markdown",
   "id": "16d87559",
   "metadata": {},
   "source": [
    "# Day-02 : Variables and Data Types\n",
    "\n",
    "# Topics - Integers, floats, strings, booleans, type conversion"
   ]
  },
  {
   "cell_type": "markdown",
   "id": "652c95bf",
   "metadata": {},
   "source": [
    "# Int"
   ]
  },
  {
   "cell_type": "code",
   "execution_count": 7,
   "id": "49a8f42e",
   "metadata": {},
   "outputs": [
    {
     "name": "stdout",
     "output_type": "stream",
     "text": [
      "911\n",
      "<class 'int'>\n"
     ]
    }
   ],
   "source": [
    "x = 911\n",
    "print(x)\n",
    "print(type(x))  # <class 'int'>"
   ]
  },
  {
   "cell_type": "markdown",
   "id": "1dc4c9c0",
   "metadata": {},
   "source": [
    "# Float"
   ]
  },
  {
   "cell_type": "code",
   "execution_count": 10,
   "id": "bdfa269b",
   "metadata": {},
   "outputs": [
    {
     "name": "stdout",
     "output_type": "stream",
     "text": [
      "34.789\n",
      "<class 'float'>\n"
     ]
    }
   ],
   "source": [
    "y = 34.789\n",
    "print(y)\n",
    "print(type(y))  # <class 'float'>"
   ]
  },
  {
   "cell_type": "markdown",
   "id": "dd1113b6",
   "metadata": {},
   "source": [
    "# Strings"
   ]
  },
  {
   "cell_type": "code",
   "execution_count": 13,
   "id": "d045801d",
   "metadata": {},
   "outputs": [
    {
     "name": "stdout",
     "output_type": "stream",
     "text": [
      "Scuderia Ferrari\n",
      "<class 'str'>\n"
     ]
    }
   ],
   "source": [
    "name = \"Scuderia Ferrari\"\n",
    "print(name)\n",
    "print(type(name))  # <class 'str'>"
   ]
  },
  {
   "cell_type": "markdown",
   "id": "848d00d7",
   "metadata": {},
   "source": [
    "# Boolean"
   ]
  },
  {
   "cell_type": "code",
   "execution_count": 16,
   "id": "8494c904",
   "metadata": {},
   "outputs": [
    {
     "name": "stdout",
     "output_type": "stream",
     "text": [
      "True\n",
      "False\n",
      "<class 'bool'>\n",
      "<class 'bool'>\n"
     ]
    }
   ],
   "source": [
    "is_active = True\n",
    "is_notactive = False\n",
    "print(is_active)\n",
    "print(is_notactive)\n",
    "print(type(is_active))     # <class 'bool'>\n",
    "print(type(is_notactive))  # <class 'bool'>"
   ]
  },
  {
   "cell_type": "markdown",
   "id": "2a420e69",
   "metadata": {},
   "source": [
    "# Type conversion"
   ]
  },
  {
   "cell_type": "code",
   "execution_count": 17,
   "id": "d4145255",
   "metadata": {},
   "outputs": [
    {
     "name": "stdout",
     "output_type": "stream",
     "text": [
      "10.0\n",
      "5\n",
      "42\n",
      "123\n",
      "1\n",
      "0\n"
     ]
    }
   ],
   "source": [
    "# int to float\n",
    "x = 10\n",
    "print(float(x))  # 10.0\n",
    "\n",
    "# float to int (truncates decimal)\n",
    "y = 5.99\n",
    "print(int(y))  # 5\n",
    "\n",
    "# int to string\n",
    "z = 42\n",
    "print(str(z))  # \"42\"\n",
    "\n",
    "# string to int (only if numeric)\n",
    "s = \"123\"\n",
    "print(int(s))  # 123\n",
    "\n",
    "# bool to int\n",
    "print(int(True))   # 1\n",
    "print(int(False))  # 0"
   ]
  },
  {
   "cell_type": "markdown",
   "id": "c9ab1d42",
   "metadata": {},
   "source": [
    "# Challenge : Calculate the area of a rectangle using user-input length and width"
   ]
  },
  {
   "cell_type": "code",
   "execution_count": 20,
   "id": "7bbe3fbc",
   "metadata": {},
   "outputs": [
    {
     "name": "stdout",
     "output_type": "stream",
     "text": [
      "The area of the rectangle is: 30.0\n"
     ]
    }
   ],
   "source": [
    "length = float(input(\"Enter length of rectangle: \"))\n",
    "width = float(input(\"Enter width of rectangle: \"))\n",
    "\n",
    "# Area formula\n",
    "area = length * width   # l = 5 & w = 6\n",
    "\n",
    "# Output\n",
    "print(\"The area of the rectangle is:\", area)"
   ]
  }
 ],
 "metadata": {
  "kernelspec": {
   "display_name": "base",
   "language": "python",
   "name": "python3"
  },
  "language_info": {
   "codemirror_mode": {
    "name": "ipython",
    "version": 3
   },
   "file_extension": ".py",
   "mimetype": "text/x-python",
   "name": "python",
   "nbconvert_exporter": "python",
   "pygments_lexer": "ipython3",
   "version": "3.12.7"
  }
 },
 "nbformat": 4,
 "nbformat_minor": 5
}
