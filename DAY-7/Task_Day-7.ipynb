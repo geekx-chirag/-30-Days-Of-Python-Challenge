{
 "cells": [
  {
   "cell_type": "markdown",
   "id": "0db2e900",
   "metadata": {},
   "source": [
    "# Day-06: File Handling\n",
    "\n",
    "# Topics - Reading/writing files, handling text and CSV"
   ]
  },
  {
   "cell_type": "markdown",
   "id": "8faefea6",
   "metadata": {},
   "source": [
    "# Reading & Writing Text Files :"
   ]
  },
  {
   "cell_type": "code",
   "execution_count": 7,
   "id": "57564acb",
   "metadata": {},
   "outputs": [],
   "source": [
    "with open(\"cars.txt\", \"w\") as file:\n",
    "    file.write(\"Hello, this is a cars file.\")"
   ]
  },
  {
   "cell_type": "code",
   "execution_count": 8,
   "id": "eb8e4932",
   "metadata": {},
   "outputs": [
    {
     "name": "stdout",
     "output_type": "stream",
     "text": [
      "Hello, this is a text file.\n"
     ]
    }
   ],
   "source": [
    "with open(\"sample.txt\", \"r\") as file:\n",
    "    content = file.read()\n",
    "    print(content)"
   ]
  },
  {
   "cell_type": "markdown",
   "id": "a9f98735",
   "metadata": {},
   "source": [
    "# Reading & Writing CSV Files :"
   ]
  },
  {
   "cell_type": "code",
   "execution_count": 4,
   "id": "2ea2b2ae",
   "metadata": {},
   "outputs": [],
   "source": [
    "import csv"
   ]
  },
  {
   "cell_type": "code",
   "execution_count": 7,
   "id": "9ea2ea4a",
   "metadata": {},
   "outputs": [],
   "source": [
    "with open(\"data.csv\", \"w\", newline=\"\") as file:\n",
    "    writer = csv.writer(file)\n",
    "    writer.writerow([\"Cars\", \"Units\"])\n",
    "    writer.writerow([\"Ferrari\", 12])\n",
    "    writer.writerow([\"Aston Martin\", 6])"
   ]
  },
  {
   "cell_type": "code",
   "execution_count": 8,
   "id": "56d41c79",
   "metadata": {},
   "outputs": [
    {
     "name": "stdout",
     "output_type": "stream",
     "text": [
      "['Cars', 'Units']\n",
      "['Ferrari', '12']\n",
      "['Aston Martin', '6']\n"
     ]
    }
   ],
   "source": [
    "with open(\"data.csv\", \"r\") as file:\n",
    "    reader = csv.reader(file)\n",
    "    for row in reader:\n",
    "        print(row)"
   ]
  },
  {
   "cell_type": "markdown",
   "id": "0016b807",
   "metadata": {},
   "source": [
    "# Challenge : Count word frequencies in a text file"
   ]
  },
  {
   "cell_type": "code",
   "execution_count": 12,
   "id": "f443645a",
   "metadata": {},
   "outputs": [
    {
     "name": "stdout",
     "output_type": "stream",
     "text": [
      "hello,: 1\n",
      "this: 1\n",
      "is: 1\n",
      "a: 1\n",
      "cars: 1\n",
      "file.: 1\n"
     ]
    }
   ],
   "source": [
    "from collections import Counter\n",
    "\n",
    "words = open(\"cars.txt\").read().lower().split()\n",
    "for word, count in Counter(words).items():\n",
    "    print(f\"{word}: {count}\")"
   ]
  }
 ],
 "metadata": {
  "kernelspec": {
   "display_name": "base",
   "language": "python",
   "name": "python3"
  },
  "language_info": {
   "codemirror_mode": {
    "name": "ipython",
    "version": 3
   },
   "file_extension": ".py",
   "mimetype": "text/x-python",
   "name": "python",
   "nbconvert_exporter": "python",
   "pygments_lexer": "ipython3",
   "version": "3.12.7"
  }
 },
 "nbformat": 4,
 "nbformat_minor": 5
}
