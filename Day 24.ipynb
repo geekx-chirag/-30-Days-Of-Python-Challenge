{
 "cells": [
  {
   "cell_type": "markdown",
   "id": "d0b571d2",
   "metadata": {},
   "source": [
    "# Day-24: Dataclasses in Python\n",
    "\n",
    "# Topics- defining dataclasses, default values, type hints etc"
   ]
  },
  {
   "cell_type": "markdown",
   "id": "2324a5f5",
   "metadata": {},
   "source": [
    "# Challenge : Create a dataclass to represent a library book with fields for title, author, ISBN, and publication year, including a method to display book details"
   ]
  },
  {
   "cell_type": "code",
   "execution_count": 1,
   "id": "8b784ba4",
   "metadata": {},
   "outputs": [
    {
     "name": "stdout",
     "output_type": "stream",
     "text": [
      "Marvel Comic Details:\n",
      "Title: Doctor Strange: Multiverse Of Madness\n",
      "Hero: Doctor Strange\n",
      "Issue #: 1\n",
      "Year: 2023\n"
     ]
    }
   ],
   "source": [
    "from dataclasses import dataclass\n",
    "\n",
    "@dataclass\n",
    "class MarvelComic:\n",
    "    title: str\n",
    "    hero: str\n",
    "    issue_number: int\n",
    "    year: int\n",
    "\n",
    "    def display_details(self):\n",
    "        print(\"Marvel Comic Details:\")\n",
    "        print(f\"Title: {self.title}\")\n",
    "        print(f\"Hero: {self.hero}\")\n",
    "        print(f\"Issue #: {self.issue_number}\")\n",
    "        print(f\"Year: {self.year}\")\n",
    "\n",
    "# Example use\n",
    "comic1 = MarvelComic(\n",
    "    title=\"Doctor Strange: Multiverse Of Madness\",\n",
    "    hero=\"Doctor Strange\",\n",
    "    issue_number=1,\n",
    "    year= 2023\n",
    ")\n",
    "\n",
    "comic1.display_details()\n"
   ]
  }
 ],
 "metadata": {
  "kernelspec": {
   "display_name": "base",
   "language": "python",
   "name": "python3"
  },
  "language_info": {
   "codemirror_mode": {
    "name": "ipython",
    "version": 3
   },
   "file_extension": ".py",
   "mimetype": "text/x-python",
   "name": "python",
   "nbconvert_exporter": "python",
   "pygments_lexer": "ipython3",
   "version": "3.12.7"
  }
 },
 "nbformat": 4,
 "nbformat_minor": 5
}
