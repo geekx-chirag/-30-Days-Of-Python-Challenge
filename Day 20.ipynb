{
 "cells": [
  {
   "cell_type": "markdown",
   "id": "14c491a2",
   "metadata": {},
   "source": [
    "# Day-20: Networking with Python\n",
    "\n",
    "# Topics - Sockets, HTTP requests           (Help taken from ChatGpt/Blackbox.AI)"
   ]
  },
  {
   "cell_type": "code",
   "execution_count": 18,
   "id": "b8ce3fcb",
   "metadata": {},
   "outputs": [
    {
     "name": "stdout",
     "output_type": "stream",
     "text": [
      " ✨ Marvel Universe Page fetched successfully!\n",
      "\n",
      "\n",
      "    <html>\n",
      "    <head><title>Marvel Heroes</title></head>\n",
      "    <body>\n",
      "        <h1>Welcome to the Marvel Universe</h1>\n",
      "        <p>Explore the stories of legendary heroes like Iron Man, Spider-Man, and Captain Marvel!</p>\n",
      "        <p>Stay tuned for updates on the Avengers' latest adventures.</p>\n",
      "        <p>Discover new Marvel comics, movies, and series on Disney+!</p>\n",
      "        Marvel fans assemble! Marvel fans assemble! Marvel fans assemble! Marvel fans assemble! Marvel fans assemble! Marvel fans assemble! Marvel fans assemble! Marvel fans assemble! Marvel fans assemble! Marvel fans assemble! Marvel fans assemble! Marvel fans assemble! Marvel fans assemble! Marvel fans assemble! Marvel fans assemble! Marvel fans assemble! Marvel fans assemble! Marvel fans assemble! Marvel fans assemble! Marvel fans assemble! Marvel fans assemble! Marvel fans assemble! Marvel fans assemble! Marvel fans assemble! Marvel fans assemble! Marvel fans assemble! Marvel fans assemble! Marvel fans assemble! Marvel fans assemble! Marvel fans assemble! Marvel fans assemble! Marvel fans assemble! Marvel fans assemble! Marvel fans assemble! Marvel fans assemble! Marvel fans assemble! Marvel fans assemble! Marvel fans assemble! Marvel fans assemble! Marvel fans assemble! Marvel fans assemble! Marvel fans assemble! Marvel fans assemble! Marvel fans assemble! Marvel fans assemble! Marvel fans assemble! Marvel fans assemble! Marvel fans assemble! Marvel fans assemble! Marvel fans assemble! Marvel fans assemble! Marvel fans assemble! Marvel fans assemble! Marvel fans assemble! Marvel fans assemble! Marvel fans assemble! Marvel fans assemble! Marvel fans assemble! Marvel fans assemble! Marvel fans assemble! Marvel fans assemble! Marvel fans assemble! Marvel fans assemble! Marvel fans assemble! Marvel fans assemble! Marvel fans assemble! Marvel fans assemble! Marvel fans assemble! Marvel fans assemble! Marvel fans assemble! Marvel fans assemble! Marvel fans assemble! Marvel fans assemble! Marvel fans assembl\n"
     ]
    }
   ],
   "source": [
    "import requests\n",
    "from unittest.mock import patch\n",
    "\n",
    "# URL \n",
    "url = \"https://www.marvelheroes.com\"  # mock url\n",
    "\n",
    "# Function \n",
    "def fetch_marvel_page():\n",
    "    try:\n",
    "        response = requests.get(url)\n",
    "\n",
    "        if response.status_code == 200:\n",
    "            print(' ✨ Marvel Universe Page fetched successfully!\\n')\n",
    "            print(response.text[:2000])\n",
    "        else:\n",
    "            print(f'Failed to retrieve Marvel Universe page. Status code: {response.status_code}')\n",
    "\n",
    "    except requests.exceptions.RequestException as e:\n",
    "        print(f'Error fetching Marvel Universe page: {e}')\n",
    "\n",
    "# requests.get method\n",
    "with patch('requests.get') as mock_get:\n",
    "    mock_response = requests.Response()\n",
    "    mock_response.status_code = 200\n",
    "    mock_response._content = b\"\"\"\n",
    "    <html>\n",
    "    <head><title>Marvel Heroes</title></head>\n",
    "    <body>\n",
    "        <h1>Welcome to the Marvel Universe</h1>\n",
    "        <p>Explore the stories of legendary heroes like Iron Man, Spider-Man, and Captain Marvel!</p>\n",
    "        <p>Stay tuned for updates on the Avengers' latest adventures.</p>\n",
    "        <p>Discover new Marvel comics, movies, and series on Disney+!</p>\n",
    "        \"\"\" + b\"Marvel fans assemble! \" * 100  # Repeated content for large text\n",
    "    mock_get.return_value = mock_response\n",
    "\n",
    "    fetch_marvel_page()\n"
   ]
  },
  {
   "cell_type": "markdown",
   "id": "a0b22080",
   "metadata": {},
   "source": [
    "# Challenge : Fetch and display a webpage’s content"
   ]
  },
  {
   "cell_type": "code",
   "execution_count": 21,
   "id": "2ebfb8a0",
   "metadata": {},
   "outputs": [
    {
     "name": "stdout",
     "output_type": "stream",
     "text": [
      "Webpage content fetched successfully!\n",
      "\n",
      "<!doctype html>\n",
      "<html>\n",
      "<head>\n",
      "    <title>Example Domain</title>\n",
      "\n",
      "    <meta charset=\"utf-8\" />\n",
      "    <meta http-equiv=\"Content-type\" content=\"text/html; charset=utf-8\" />\n",
      "    <meta name=\"viewport\" content=\"width=device-width, initial-scale=1\" />\n",
      "    <style type=\"text/css\">\n",
      "    body {\n",
      "        background-color: #f0f0f2;\n",
      "        margin: 0;\n",
      "        padding: 0;\n",
      "        font-family: -apple-system, system-ui, BlinkMacSystemFont, \"Segoe UI\", \"Open Sans\", \"Helvetica Neue\", Helvetica, Arial, sans-serif;\n",
      "        \n",
      "    }\n",
      "    div {\n",
      "        width: 600px;\n",
      "        margin: 5em auto;\n",
      "        padding: 2em;\n",
      "        background-color: #fdfdff;\n",
      "        border-radius: 0.5em;\n",
      "        box-shadow: 2px 3px 7px 2px rgba(0,0,0,0.02);\n",
      "    }\n",
      "    a:link, a:visited {\n",
      "        color: #38488f;\n",
      "        text-decoration: none;\n",
      "    }\n",
      "    @media (max-width: 700px) {\n",
      "        div {\n",
      "            margin: 0 auto;\n",
      "            width: auto;\n",
      "        }\n",
      "    }\n",
      "    </style>    \n",
      "</head>\n",
      "\n",
      "<body>\n",
      "<div>\n",
      "    <h1>Example Domain</h1>\n",
      "    <p>This domain is for use in illustrative examples in documents. You may use this\n",
      "    domain in literature without prior coordination or asking for permission.</p>\n",
      "    <p><a href=\"https://www.iana.org/domains/example\">More information...</a></p>\n",
      "</div>\n",
      "</body>\n",
      "</html>\n",
      "\n"
     ]
    }
   ],
   "source": [
    "import requests\n",
    "\n",
    "# URL of the webpage to fetch\n",
    "url = \"https://www.example.com\"  # mock url taken\n",
    "\n",
    "def fetch_and_display_webpage(url):\n",
    "    try:\n",
    "        # Sending a GET request to the URL\n",
    "        response = requests.get(url)\n",
    "\n",
    "        # Checking if the request was successful\n",
    "        if response.status_code == 200:\n",
    "            print('Webpage content fetched successfully!\\n')\n",
    "            print(response.text[:2000])  # Displaying the first 2000 characters\n",
    "        else:\n",
    "            print(f'Failed to retrieve webpage. Status code: {response.status_code}')\n",
    "\n",
    "    except requests.exceptions.RequestException as e:\n",
    "        print(f'Error: {e}')\n",
    "\n",
    "# Fetch and display the webpage content\n",
    "fetch_and_display_webpage(url)"
   ]
  }
 ],
 "metadata": {
  "kernelspec": {
   "display_name": "base",
   "language": "python",
   "name": "python3"
  },
  "language_info": {
   "codemirror_mode": {
    "name": "ipython",
    "version": 3
   },
   "file_extension": ".py",
   "mimetype": "text/x-python",
   "name": "python",
   "nbconvert_exporter": "python",
   "pygments_lexer": "ipython3",
   "version": "3.12.7"
  }
 },
 "nbformat": 4,
 "nbformat_minor": 5
}
