{
 "cells": [
  {
   "cell_type": "markdown",
   "id": "d6f3d21c",
   "metadata": {},
   "source": [
    "# Day-17: Context Managers \n",
    "\n",
    "# Topics - with statements, custom context managers"
   ]
  },
  {
   "cell_type": "markdown",
   "id": "b47975b1",
   "metadata": {},
   "source": [
    "# with statements :"
   ]
  },
  {
   "cell_type": "code",
   "execution_count": 1,
   "id": "2b729068",
   "metadata": {},
   "outputs": [],
   "source": [
    "with open(\"avengers.txt\", \"w\") as f:\n",
    "    f.write(\"Avengers Assemble\")"
   ]
  },
  {
   "cell_type": "markdown",
   "id": "ab5ad74a",
   "metadata": {},
   "source": [
    "# custom context managers :"
   ]
  },
  {
   "cell_type": "code",
   "execution_count": 2,
   "id": "10cb9292",
   "metadata": {},
   "outputs": [
    {
     "name": "stdout",
     "output_type": "stream",
     "text": [
      "I\n",
      "Love you\n",
      "3000!\n"
     ]
    }
   ],
   "source": [
    "class manager:\n",
    "    def __enter__(self): print(\"I\")\n",
    "    def __exit__(self, *args): print(\"3000!\")\n",
    "\n",
    "with manager():\n",
    "    print(\"Love you\")"
   ]
  },
  {
   "cell_type": "markdown",
   "id": "6ce431c0",
   "metadata": {},
   "source": [
    "# Challenge : Build a context manager for safe file handling"
   ]
  },
  {
   "cell_type": "code",
   "execution_count": 3,
   "id": "31c97789",
   "metadata": {},
   "outputs": [],
   "source": [
    "class file:          # Challenge\n",
    "    def __enter__(self):\n",
    "        self.file = open(\"mcu.txt\", \"w\")\n",
    "        return self.file\n",
    "\n",
    "    def __exit__(self, *args):\n",
    "        self.file.close()\n",
    "\n",
    "with file() as f:\n",
    "    f.write(\"file handed safely\")"
   ]
  }
 ],
 "metadata": {
  "kernelspec": {
   "display_name": "base",
   "language": "python",
   "name": "python3"
  },
  "language_info": {
   "codemirror_mode": {
    "name": "ipython",
    "version": 3
   },
   "file_extension": ".py",
   "mimetype": "text/x-python",
   "name": "python",
   "nbconvert_exporter": "python",
   "pygments_lexer": "ipython3",
   "version": "3.12.7"
  }
 },
 "nbformat": 4,
 "nbformat_minor": 5
}
