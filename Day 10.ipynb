{
 "cells": [
  {
   "cell_type": "markdown",
   "id": "2cf021c3",
   "metadata": {},
   "source": [
    "# Day-10: Exception Handling\n",
    "\n",
    "# Topics - Try-except, specific exceptions, finally clause"
   ]
  },
  {
   "cell_type": "markdown",
   "id": "ec324479",
   "metadata": {},
   "source": [
    "# Exception Handling : In python it is used to deal with Errors that might happen while a program is running."
   ]
  },
  {
   "cell_type": "markdown",
   "id": "fd2d1f89",
   "metadata": {},
   "source": [
    "# Try-except : "
   ]
  },
  {
   "cell_type": "code",
   "execution_count": 26,
   "id": "6203b793",
   "metadata": {},
   "outputs": [
    {
     "name": "stdout",
     "output_type": "stream",
     "text": [
      "You are 45 years old.\n"
     ]
    }
   ],
   "source": [
    "try:\n",
    "    age = int(input(\"Enter your age: \"))\n",
    "    print(\"You are\", age, \"years old.\")\n",
    "except ValueError:\n",
    "    print(\"Please enter a valid number!\")    # Will show error when you put anything other than the age number."
   ]
  },
  {
   "cell_type": "markdown",
   "id": "993ac666",
   "metadata": {},
   "source": [
    "# Specific exceptions :"
   ]
  },
  {
   "cell_type": "code",
   "execution_count": null,
   "id": "c111e8cb",
   "metadata": {},
   "outputs": [
    {
     "name": "stdout",
     "output_type": "stream",
     "text": [
      "Invalid input!\n"
     ]
    }
   ],
   "source": [
    "try:\n",
    "    x = int(input(\"Enter number: \"))\n",
    "    print([1, 2, 3][x])\n",
    "except (ValueError, IndexError):\n",
    "    print(\"Invalid input!\")                 # Will show error when number is greater than 3 or any word like abc!"
   ]
  },
  {
   "cell_type": "markdown",
   "id": "774a9767",
   "metadata": {},
   "source": [
    "# Finally clause :"
   ]
  },
  {
   "cell_type": "code",
   "execution_count": null,
   "id": "8ccb946d",
   "metadata": {},
   "outputs": [
    {
     "name": "stdout",
     "output_type": "stream",
     "text": [
      "Execution finished.\n"
     ]
    }
   ],
   "source": [
    "try:\n",
    "    file = open(\"test.txt\", \"r\")\n",
    "    content = file.read()\n",
    "except FileNotFoundError:\n",
    "    print(\"File not found!\")\n",
    "finally:\n",
    "    print(\"Execution finished.\")            # Will show the error if file does not exsist!"
   ]
  },
  {
   "cell_type": "markdown",
   "id": "4eac54ad",
   "metadata": {},
   "source": [
    "# Challenge : Read numbers from a file and handle errors gracefully"
   ]
  },
  {
   "cell_type": "code",
   "execution_count": 2,
   "id": "32d4cccf",
   "metadata": {},
   "outputs": [
    {
     "name": "stdout",
     "output_type": "stream",
     "text": [
      "10\n",
      "20\n",
      "30\n",
      "40\n",
      "The file contains non-numeric data.\n",
      "Done trying to read the file.\n"
     ]
    }
   ],
   "source": [
    "try:\n",
    "    file = open(\"numbers.txt\", \"r\")\n",
    "    numbers = file.readlines()\n",
    "    for num in numbers:\n",
    "        print(int(num.strip()))\n",
    "except FileNotFoundError:\n",
    "    print(\"The file 'numbers.txt' does not exist.\") \n",
    "except ValueError:\n",
    "    print(\"The file contains non-numeric data.\")   \n",
    "finally:\n",
    "    print(\"Done trying to read the file.\")\n",
    "    if 'file' in locals():\n",
    "        file.close()"
   ]
  }
 ],
 "metadata": {
  "kernelspec": {
   "display_name": "base",
   "language": "python",
   "name": "python3"
  },
  "language_info": {
   "codemirror_mode": {
    "name": "ipython",
    "version": 3
   },
   "file_extension": ".py",
   "mimetype": "text/x-python",
   "name": "python",
   "nbconvert_exporter": "python",
   "pygments_lexer": "ipython3",
   "version": "3.12.7"
  }
 },
 "nbformat": 4,
 "nbformat_minor": 5
}
