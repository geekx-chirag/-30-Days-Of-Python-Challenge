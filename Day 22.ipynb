{
 "cells": [
  {
   "cell_type": "markdown",
   "id": "3e7bd9f8",
   "metadata": {},
   "source": [
    "# Day-22: Command-Line Application \n",
    "\n",
    "# Topics - argparse, CLI structure"
   ]
  },
  {
   "cell_type": "markdown",
   "id": "211d4779",
   "metadata": {},
   "source": [
    "# `argparse` : It is a Python module for parsing command-line arguments."
   ]
  },
  {
   "cell_type": "code",
   "execution_count": 2,
   "id": "bb7e9092",
   "metadata": {},
   "outputs": [
    {
     "name": "stdout",
     "output_type": "stream",
     "text": [
      "esrevinU citemsoC levraM\n"
     ]
    }
   ],
   "source": [
    "import argparse\n",
    "import sys\n",
    "\n",
    "sys.argv = ['notebook', 'Marvel Cosmetic Universe']  \n",
    "\n",
    "parser = argparse.ArgumentParser()\n",
    "parser.add_argument('word')\n",
    "args = parser.parse_args()\n",
    "\n",
    "print(args.word[::-1])"
   ]
  },
  {
   "cell_type": "markdown",
   "id": "76819a04",
   "metadata": {},
   "source": [
    "# `Challenge` : Build a temperature converter CLI tool"
   ]
  },
  {
   "cell_type": "code",
   "execution_count": 3,
   "id": "54fc6811",
   "metadata": {},
   "outputs": [
    {
     "name": "stdout",
     "output_type": "stream",
     "text": [
      "55.0°F = 12.78°C\n"
     ]
    }
   ],
   "source": [
    "temperature = float(input(\"Enter the temperature: \"))\n",
    "unit = input(\"Enter the unit (C , F ): \").strip().upper()\n",
    "\n",
    "# conversion\n",
    "if unit == 'C':\n",
    "    converted = temperature * 9 / 5 + 32\n",
    "    print(f\"{temperature}°C = {converted:.2f}°F\")\n",
    "elif unit == 'F':\n",
    "    converted = (temperature - 32) * 5 / 9\n",
    "    print(f\"{temperature}°F = {converted:.2f}°C\")\n",
    "else:\n",
    "    print(\"Please enter 'C' or 'F'.\")"
   ]
  }
 ],
 "metadata": {
  "kernelspec": {
   "display_name": "base",
   "language": "python",
   "name": "python3"
  },
  "language_info": {
   "codemirror_mode": {
    "name": "ipython",
    "version": 3
   },
   "file_extension": ".py",
   "mimetype": "text/x-python",
   "name": "python",
   "nbconvert_exporter": "python",
   "pygments_lexer": "ipython3",
   "version": "3.12.7"
  }
 },
 "nbformat": 4,
 "nbformat_minor": 5
}
