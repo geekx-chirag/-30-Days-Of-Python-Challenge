{
 "cells": [
  {
   "cell_type": "markdown",
   "id": "4e2d2530",
   "metadata": {},
   "source": [
    "# Day-18: Metaclasses \n",
    "\n",
    "# Topics - Customising class creation"
   ]
  },
  {
   "cell_type": "markdown",
   "id": "50f408d1",
   "metadata": {},
   "source": [
    "# Customing class creation :"
   ]
  },
  {
   "cell_type": "markdown",
   "id": "c8ba2e80",
   "metadata": {},
   "source": [
    "# Code :"
   ]
  },
  {
   "cell_type": "code",
   "execution_count": 26,
   "id": "16aedcd9",
   "metadata": {},
   "outputs": [
    {
     "name": "stdout",
     "output_type": "stream",
     "text": [
      "Avengers, Assemble!\n"
     ]
    }
   ],
   "source": [
    "class Avengers(type):\n",
    "    def __new__(cls, name, bases, class_dict):\n",
    "        class_dict['assemble'] = lambda self: \"Avengers, Assemble!\"\n",
    "        return super().__new__(cls, name, bases, class_dict)\n",
    "\n",
    "class Hero(metaclass=Avengers):\n",
    "    pass\n",
    "\n",
    "hero = Hero()\n",
    "print(hero.assemble())  "
   ]
  },
  {
   "cell_type": "markdown",
   "id": "194dab0f",
   "metadata": {},
   "source": [
    "# Challenge : Enforce a naming convention with a metaclass"
   ]
  },
  {
   "cell_type": "code",
   "execution_count": 27,
   "id": "30c62c62",
   "metadata": {},
   "outputs": [],
   "source": [
    "class AvengerMeta(type):\n",
    "    def __new__(cls, name, bases, class_dict):\n",
    "        if any(attr.isupper() for attr in class_dict if not attr.startswith(\"__\")):\n",
    "            raise ValueError(\"All avenger names must be lowercase\")\n",
    "        return super().__new__(cls, name, bases, class_dict)\n",
    "    \n",
    "class Hero(metaclass=AvengerMeta):\n",
    "    ironman = \"Tony Stark\""
   ]
  }
 ],
 "metadata": {
  "kernelspec": {
   "display_name": "base",
   "language": "python",
   "name": "python3"
  },
  "language_info": {
   "codemirror_mode": {
    "name": "ipython",
    "version": 3
   },
   "file_extension": ".py",
   "mimetype": "text/x-python",
   "name": "python",
   "nbconvert_exporter": "python",
   "pygments_lexer": "ipython3",
   "version": "3.12.7"
  }
 },
 "nbformat": 4,
 "nbformat_minor": 5
}
