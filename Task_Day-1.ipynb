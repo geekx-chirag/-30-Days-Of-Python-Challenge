{
 "cells": [
  {
   "cell_type": "markdown",
   "id": "19c1318f",
   "metadata": {},
   "source": [
    "# Day-01 : Introduction to Python\n",
    "\n",
    "# Topics - Python overview, installation, IDE setup (Like VSCode/Pycharm/Jupyter notebook/Python IDE) & basic syntax"
   ]
  },
  {
   "cell_type": "markdown",
   "id": "950a09dc",
   "metadata": {},
   "source": [
    "# 🚀 Python Development Setup\n",
    "\n",
    "# 📌 Overview\n",
    "\n",
    "Python is a high-level, interpreted programming language known for its readability and versatility. \n",
    "\n",
    "# 🛠️ Installation\n",
    "\n",
    "#### Windows / macOS / Linux\n",
    "\n",
    "1. Download the latest version from **[python.org/downloads](https://www.python.org/downloads/)**\n",
    "2. Run the installer:\n",
    "\n",
    "# 💻 IDE Setup: (VS Code)\n",
    "\n",
    "1. Open the **Start Menu** and search for:\n",
    "   `Edit the system environment variables` → Press **Enter**\n",
    "2. In the **System Properties** window, click on the **Environment Variables...** button.\n",
    "3. Under **System variables**, locate and select the **Path** variable → Click **Edit**\n",
    "4. In the **Edit Environment Variable** window:\n",
    "\n",
    "   * Click **New**\n",
    "   * Paste the full path to the Python installation directory (e.g., `C:\\Python311\\`, and optionally `C:\\Python311\\Scripts\\`)\n",
    "5. Click **OK** on all open dialog boxes to save and apply changes\n",
    "6. Verify setup in a new Command Prompt:\n",
    "\n",
    "   ```bash\n",
    "   python --version\n",
    "   ```"
   ]
  },
  {
   "cell_type": "markdown",
   "id": "bc90e84f",
   "metadata": {},
   "source": [
    "# Challenge : Write a program that prints \"Hello, World!\" followed by your name"
   ]
  },
  {
   "cell_type": "code",
   "execution_count": 1,
   "id": "152560df",
   "metadata": {},
   "outputs": [
    {
     "name": "stdout",
     "output_type": "stream",
     "text": [
      "Hello, World!\n",
      "Chirag Singh\n"
     ]
    }
   ],
   "source": [
    "print(\"Hello, Welcome to the world of Python\")\n",
    "print(\"Chirag Singh\")"
   ]
  }
 ],
 "metadata": {
  "kernelspec": {
   "display_name": "base",
   "language": "python",
   "name": "python3"
  },
  "language_info": {
   "codemirror_mode": {
    "name": "ipython",
    "version": 3
   },
   "file_extension": ".py",
   "mimetype": "text/x-python",
   "name": "python",
   "nbconvert_exporter": "python",
   "pygments_lexer": "ipython3",
   "version": "3.12.7"
  }
 },
 "nbformat": 4,
 "nbformat_minor": 5
}
