{
 "cells": [
  {
   "cell_type": "markdown",
   "id": "0d5f3cde",
   "metadata": {},
   "source": [
    "# Day-05: Functions\n",
    "\n",
    "# Topics - Defining functions, parameters, return values, lambda functions"
   ]
  },
  {
   "cell_type": "markdown",
   "id": "27cff3df",
   "metadata": {},
   "source": [
    "# Defining function :"
   ]
  },
  {
   "cell_type": "code",
   "execution_count": 3,
   "id": "11bfe755",
   "metadata": {},
   "outputs": [
    {
     "name": "stdout",
     "output_type": "stream",
     "text": [
      "LaFerrari is the Best car\n"
     ]
    }
   ],
   "source": [
    "def greet():\n",
    "    print(\"LaFerrari is the Best car\")\n",
    "\n",
    "greet()  # Call the function"
   ]
  },
  {
   "cell_type": "markdown",
   "id": "b49f8da2",
   "metadata": {},
   "source": [
    "# Parameters :"
   ]
  },
  {
   "cell_type": "code",
   "execution_count": 5,
   "id": "6f57c193",
   "metadata": {},
   "outputs": [
    {
     "name": "stdout",
     "output_type": "stream",
     "text": [
      "Hello, LaFerrari\n"
     ]
    }
   ],
   "source": [
    "def greet_user(car):\n",
    "    print(f\"Hello, {car}\")\n",
    "\n",
    "greet_user(\"LaFerrari\")"
   ]
  },
  {
   "cell_type": "markdown",
   "id": "4f36db57",
   "metadata": {},
   "source": [
    "# Return values"
   ]
  },
  {
   "cell_type": "code",
   "execution_count": 6,
   "id": "9ead25f4",
   "metadata": {},
   "outputs": [
    {
     "name": "stdout",
     "output_type": "stream",
     "text": [
      "Sum: 8\n"
     ]
    }
   ],
   "source": [
    "def add(a, b):\n",
    "    return a + b\n",
    "\n",
    "result = add(5, 3)\n",
    "print(\"Sum:\", result) "
   ]
  },
  {
   "cell_type": "markdown",
   "id": "f6ce7fbf",
   "metadata": {},
   "source": [
    "# Lambda functions"
   ]
  },
  {
   "cell_type": "code",
   "execution_count": 7,
   "id": "53484379",
   "metadata": {},
   "outputs": [
    {
     "name": "stdout",
     "output_type": "stream",
     "text": [
      "16\n"
     ]
    }
   ],
   "source": [
    "square = lambda x: x * x\n",
    "print(square(4))  "
   ]
  },
  {
   "cell_type": "markdown",
   "id": "08301636",
   "metadata": {},
   "source": [
    "# Challenge : Write a function that computes the sum and average of a list of numbers"
   ]
  },
  {
   "cell_type": "code",
   "execution_count": 10,
   "id": "f2f633a2",
   "metadata": {},
   "outputs": [
    {
     "name": "stdout",
     "output_type": "stream",
     "text": [
      "Sum: 20\n",
      "Average: 10.0\n"
     ]
    }
   ],
   "source": [
    "def sum_avg(nums):\n",
    "    return sum(nums), sum(nums)/len(nums)\n",
    "\n",
    "# Example\n",
    "numbers = [9, 11]\n",
    "s, a = sum_avg(numbers)\n",
    "print(\"Sum:\", s)\n",
    "print(\"Average:\", a)"
   ]
  }
 ],
 "metadata": {
  "kernelspec": {
   "display_name": "base",
   "language": "python",
   "name": "python3"
  },
  "language_info": {
   "codemirror_mode": {
    "name": "ipython",
    "version": 3
   },
   "file_extension": ".py",
   "mimetype": "text/x-python",
   "name": "python",
   "nbconvert_exporter": "python",
   "pygments_lexer": "ipython3",
   "version": "3.12.7"
  }
 },
 "nbformat": 4,
 "nbformat_minor": 5
}
