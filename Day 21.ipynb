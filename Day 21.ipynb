{
 "cells": [
  {
   "cell_type": "markdown",
   "id": "a4992b6a",
   "metadata": {},
   "source": [
    "# Day-21: Web Scraping\n",
    "\n",
    "# Topics - requests, BeautifulSoup  ( Help taken from ChatGpt as it is new thing for me!!)"
   ]
  },
  {
   "cell_type": "markdown",
   "id": "946ffb36",
   "metadata": {},
   "source": [
    "# 1) requests: This is like your browser that goes to a website and says, “Hey, give me your HTML!”\n",
    "\n",
    "# 2) BeautifulSoup: Once you have the HTML, this acts like a magnifying glass, helping you pick out the exact pieces of information you need.\n",
    "\n"
   ]
  },
  {
   "cell_type": "code",
   "execution_count": 4,
   "id": "005133fb",
   "metadata": {},
   "outputs": [
    {
     "name": "stdout",
     "output_type": "stream",
     "text": [
      "https://www.iana.org/domains/example\n"
     ]
    }
   ],
   "source": [
    "import requests\n",
    "from bs4 import BeautifulSoup\n",
    "\n",
    "# Step 1: Go to the website\n",
    "url = \"https://example.com\"\n",
    "response = requests.get(url)\n",
    "\n",
    "if response.status_code == 200:  # Check if the site responded OK\n",
    "    # Step 2: Read the website's content\n",
    "    soup = BeautifulSoup(response.text, 'html.parser')\n",
    "    \n",
    "    # Step 3: Find all links on the page\n",
    "    links = soup.find_all('a')\n",
    "    for link in links:\n",
    "        print(link.get('href'))  # Print the link (if it exists)\n",
    "else:\n",
    "    print(\"Oops! Couldn’t access the website. 😞\")\n"
   ]
  },
  {
   "cell_type": "markdown",
   "id": "5d1aa20a",
   "metadata": {},
   "source": [
    "# Challenge : Scrape headlines from a news site"
   ]
  },
  {
   "cell_type": "code",
   "execution_count": 5,
   "id": "e548a916",
   "metadata": {},
   "outputs": [
    {
     "name": "stdout",
     "output_type": "stream",
     "text": [
      "Latest Headlines:\n"
     ]
    }
   ],
   "source": [
    "import requests\n",
    "from bs4 import BeautifulSoup\n",
    "\n",
    "# Step 1: Choose a news site URL\n",
    "url = \"https://www.bbc.com/news\" # any site you want \n",
    "\n",
    "# Step 2: Fetch the webpage content\n",
    "response = requests.get(url)\n",
    "\n",
    "if response.status_code == 200:\n",
    "    # Step 3: Parse the HTML content\n",
    "    soup = BeautifulSoup(response.text, 'html.parser')\n",
    "\n",
    "    headlines = soup.find_all('h3')\n",
    "    \n",
    "    print(\"Latest Headlines:\")\n",
    "    for idx, headline in enumerate(headlines, 1):\n",
    "        print(f\"{idx}. {headline.get_text(strip=True)}\")\n",
    "else:\n",
    "    print(f\"Failed to fetch the news. Status code: {response.status_code}\")\n"
   ]
  }
 ],
 "metadata": {
  "kernelspec": {
   "display_name": "base",
   "language": "python",
   "name": "python3"
  },
  "language_info": {
   "codemirror_mode": {
    "name": "ipython",
    "version": 3
   },
   "file_extension": ".py",
   "mimetype": "text/x-python",
   "name": "python",
   "nbconvert_exporter": "python",
   "pygments_lexer": "ipython3",
   "version": "3.12.7"
  }
 },
 "nbformat": 4,
 "nbformat_minor": 5
}
