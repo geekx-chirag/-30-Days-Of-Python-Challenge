{
 "cells": [
  {
   "cell_type": "markdown",
   "id": "5c271ef1",
   "metadata": {},
   "source": [
    "# Day-19: Multithreading and Multiprocessing\n",
    "\n",
    "# Topics - threading, multiprocessing, concurrency  (Help taken from ChatGpt in some part of code)"
   ]
  },
  {
   "cell_type": "markdown",
   "id": "2b530a82",
   "metadata": {},
   "source": [
    "# multithreading : "
   ]
  },
  {
   "cell_type": "code",
   "execution_count": null,
   "id": "a254e59c",
   "metadata": {},
   "outputs": [
    {
     "name": "stdout",
     "output_type": "stream",
     "text": [
      "Marvel is the best\n"
     ]
    }
   ],
   "source": [
    "import threading     # Chatgpt help is taken as i am a beginner \n",
    "\n",
    "def iron_man():\n",
    "    print(\"Marvel is the best\")\n",
    "\n",
    "t = threading.Thread(target=iron_man)\n",
    "t.start()\n",
    "t.join()"
   ]
  },
  {
   "cell_type": "markdown",
   "id": "cb4789c0",
   "metadata": {},
   "source": [
    "# multiprocessing :"
   ]
  },
  {
   "cell_type": "code",
   "execution_count": 16,
   "id": "11f95552",
   "metadata": {},
   "outputs": [],
   "source": [
    "import multiprocessing      # multiple processing at one time\n",
    "\n",
    "def hulk():\n",
    "    print(\"Hulk (Process) is smashing!\")\n",
    "\n",
    "if __name__ == \"__main__\":\n",
    "    p = multiprocessing.Process(target=hulk)\n",
    "    p.start()\n",
    "    p.join()"
   ]
  },
  {
   "cell_type": "markdown",
   "id": "68fe5cfb",
   "metadata": {},
   "source": [
    "# concurrency :"
   ]
  },
  {
   "cell_type": "code",
   "execution_count": 17,
   "id": "c54f1e5b",
   "metadata": {},
   "outputs": [],
   "source": [
    "import asyncio   # used for handling more than one task at a time , normally in python , it take care one task.\n",
    "\n",
    "async def spider_man():\n",
    "    for i in range(3):\n",
    "        print(f\"Spider-Man (Async) is swinging! {i}\")          \n",
    "        await asyncio.sleep(1)\n",
    "\n",
    "async def doctor_strange():\n",
    "    for i in range(3):\n",
    "        print(f\"Doctor Strange (Async) is casting spell! {i}\")\n",
    "        await asyncio.sleep(1)\n",
    "\n",
    "async def main():\n",
    "    task1 = asyncio.create_task(spider_man())\n",
    "    task2 = asyncio.create_task(doctor_strange())\n",
    "    await task1"
   ]
  },
  {
   "cell_type": "markdown",
   "id": "0f524719",
   "metadata": {},
   "source": [
    "# Challenge : Download multiple files concurrently using threads"
   ]
  },
  {
   "cell_type": "code",
   "execution_count": 18,
   "id": "6a704876",
   "metadata": {},
   "outputs": [
    {
     "name": "stdout",
     "output_type": "stream",
     "text": [
      "Failed to download https://example.com/file1.jpg\n",
      "Failed to download https://example.com/file2.jpg\n"
     ]
    }
   ],
   "source": [
    "import os\n",
    "import threading\n",
    "import requests\n",
    "\n",
    "# List of files to download\n",
    "files = [\n",
    "    \"https://example.com/file1.jpg\",\n",
    "    \"https://example.com/file2.jpg\",\n",
    "]\n",
    "\n",
    "# Directory to save files\n",
    "os.makedirs(\"downloads\", exist_ok=True)\n",
    "\n",
    "def download_file(url):\n",
    "    try:\n",
    "        response = requests.get(url, stream=True)\n",
    "        if response.status_code == 200:\n",
    "            file_name = f\"downloads/{url.split('/')[-1]}\"\n",
    "            with open(file_name, 'wb') as file:\n",
    "                for chunk in response.iter_content(1024):\n",
    "                    file.write(chunk)\n",
    "            print(f\"Downloaded: {file_name}\")\n",
    "        else:\n",
    "            print(f\"Failed to download {url}\")\n",
    "    except Exception as e:\n",
    "        print(f\"Error downloading {url}: {e}\")\n",
    "\n",
    "# Create and start threads\n",
    "threads = [threading.Thread(target=download_file, args=(url,)) for url in files]\n",
    "for thread in threads:\n",
    "    thread.start()\n",
    "\n",
    "# Wait for all threads to finish\n",
    "for thread in threads:\n",
    "    thread.join()\n"
   ]
  }
 ],
 "metadata": {
  "kernelspec": {
   "display_name": "base",
   "language": "python",
   "name": "python3"
  },
  "language_info": {
   "codemirror_mode": {
    "name": "ipython",
    "version": 3
   },
   "file_extension": ".py",
   "mimetype": "text/x-python",
   "name": "python",
   "nbconvert_exporter": "python",
   "pygments_lexer": "ipython3",
   "version": "3.12.7"
  }
 },
 "nbformat": 4,
 "nbformat_minor": 5
}
