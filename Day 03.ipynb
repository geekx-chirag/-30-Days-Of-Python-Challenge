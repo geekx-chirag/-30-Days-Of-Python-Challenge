{
 "cells": [
  {
   "cell_type": "markdown",
   "id": "7049a5b8",
   "metadata": {},
   "source": [
    "# Day-03 : Lists, Tuples, and Dictionaries\n",
    "\n",
    "# Topics -  Lists (slicing, methods), tuples (immutability), dictionaries (key-value pairs) & Sets"
   ]
  },
  {
   "cell_type": "markdown",
   "id": "b19f628f",
   "metadata": {},
   "source": [
    "# Lists (slicing, methods) :"
   ]
  },
  {
   "cell_type": "code",
   "execution_count": null,
   "id": "0c931f47",
   "metadata": {},
   "outputs": [
    {
     "name": "stdout",
     "output_type": "stream",
     "text": [
      "BMW M5 Competition\n",
      "['AMG G 63', 'LaFerrari']\n",
      "['BMW M5 Competition', 'AMG G 63', 'Koenigsegg Jesko']\n"
     ]
    }
   ],
   "source": [
    "cars = [\"BMW M5 Competition\", \"AMG G 63\", \"LaFerrari\"]\n",
    "print(cars[0])         \n",
    "print(cars[1:3])       \n",
    "\n",
    "cars.append(\"Koenigsegg Jesko\")  \n",
    "cars.remove(\"LaFerrari\")  \n",
    "print(cars)             "
   ]
  },
  {
   "cell_type": "markdown",
   "id": "1ab7332c",
   "metadata": {},
   "source": [
    "# Tuples (immutability) :"
   ]
  },
  {
   "cell_type": "code",
   "execution_count": 6,
   "id": "02100e01",
   "metadata": {},
   "outputs": [
    {
     "name": "stdout",
     "output_type": "stream",
     "text": [
      "1920\n"
     ]
    }
   ],
   "source": [
    "dimensions = (1920, 1080)\n",
    "print(dimensions[0])    \n",
    "# dimensions[0] = 1280   # Why error !? -> Tuple is immutable , once created cannot be changed"
   ]
  },
  {
   "cell_type": "markdown",
   "id": "e3db7958",
   "metadata": {},
   "source": [
    "# dictionaries (key-value pairs) :"
   ]
  },
  {
   "cell_type": "code",
   "execution_count": 15,
   "id": "6d4a9b87",
   "metadata": {},
   "outputs": [
    {
     "name": "stdout",
     "output_type": "stream",
     "text": [
      "Koenigsegg Jesko\n",
      "{'name': 'Koenigsegg Jesko', 'speed': 563, 'it_is_car': True, 'city': 'Swedish'}\n"
     ]
    }
   ],
   "source": [
    "car = {\n",
    "    \"name\": \"Koenigsegg Jesko\",\n",
    "    \"speed\": 563,\n",
    "    \"it_is_car\": True\n",
    "}\n",
    "print(car[\"name\"])      \n",
    "car[\"speed\"] = 563         \n",
    "car[\"city\"] = \"Swedish\"   \n",
    "print(car)\n"
   ]
  },
  {
   "cell_type": "markdown",
   "id": "f162c5d5",
   "metadata": {},
   "source": [
    "# Sets"
   ]
  },
  {
   "cell_type": "code",
   "execution_count": 17,
   "id": "e5ea876b",
   "metadata": {},
   "outputs": [
    {
     "name": "stdout",
     "output_type": "stream",
     "text": [
      "{1, 2, 3, 4}\n",
      "{1, 3, 4, 5}\n"
     ]
    }
   ],
   "source": [
    "cars_rank = {1, 2, 3, 3, 4}\n",
    "print(cars_rank)            \n",
    "\n",
    "cars_rank.add(5)             \n",
    "cars_rank.discard(2)         \n",
    "print(cars_rank)"
   ]
  },
  {
   "cell_type": "markdown",
   "id": "d123c42e",
   "metadata": {},
   "source": [
    "# Challenge : Create an inventory system tracking items and quantities with a dictionary"
   ]
  },
  {
   "cell_type": "code",
   "execution_count": 19,
   "id": "2a92d968",
   "metadata": {},
   "outputs": [
    {
     "name": "stdout",
     "output_type": "stream",
     "text": [
      "🏁 Current Inventory:\n",
      "\n",
      "Lamborghini Aventador: 3 units\n",
      "Ferrari SF90 Stradale: 2 units\n",
      "Bugatti Chiron: 1 units\n",
      "McLaren 720S: 4 units\n",
      "Porsche 911 Turbo S: 5 units\n",
      "Mercedes G-Wagon: 3 units\n",
      "Land Rover Defender: 2 units\n",
      "BMW X7: 4 units\n"
     ]
    }
   ],
   "source": [
    "# Inventory system using a dictionary\n",
    "\n",
    "inventory = {\n",
    "    \"Lamborghini Aventador\": 3,\n",
    "    \"Ferrari SF90 Stradale\": 2,\n",
    "    \"Bugatti Chiron\": 1,\n",
    "    \"McLaren 720S\": 4,\n",
    "    \"Porsche 911 Turbo S\": 5,\n",
    "    \"Mercedes G-Wagon\": 3,\n",
    "    \"Land Rover Defender\": 2,\n",
    "    \"BMW X7\": 4,\n",
    "}\n",
    "\n",
    "# Display the inventory\n",
    "print(\"🏁 Current Inventory:\\n\")\n",
    "for car, quantity in inventory.items():\n",
    "    print(f\"{car}: {quantity} units\")"
   ]
  }
 ],
 "metadata": {
  "kernelspec": {
   "display_name": "base",
   "language": "python",
   "name": "python3"
  },
  "language_info": {
   "codemirror_mode": {
    "name": "ipython",
    "version": 3
   },
   "file_extension": ".py",
   "mimetype": "text/x-python",
   "name": "python",
   "nbconvert_exporter": "python",
   "pygments_lexer": "ipython3",
   "version": "3.12.7"
  }
 },
 "nbformat": 4,
 "nbformat_minor": 5
}
