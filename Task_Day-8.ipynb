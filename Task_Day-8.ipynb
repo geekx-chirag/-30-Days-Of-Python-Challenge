{
 "cells": [
  {
   "cell_type": "markdown",
   "id": "7533a341",
   "metadata": {},
   "source": [
    "# Day-08: Object-Oriented Programming (Part 1)\n",
    "\n",
    "# Topics - Classes, objects, methods, attributes"
   ]
  },
  {
   "cell_type": "markdown",
   "id": "79410a15",
   "metadata": {},
   "source": [
    "# Classes : It is like the template for making objects."
   ]
  },
  {
   "cell_type": "code",
   "execution_count": 4,
   "id": "16378cdc",
   "metadata": {},
   "outputs": [
    {
     "name": "stdout",
     "output_type": "stream",
     "text": [
      "Koenigsegg Jesko is moving with very high speed\n"
     ]
    }
   ],
   "source": [
    "class Car:\n",
    "    def drive(self):\n",
    "        print(\"Koenigsegg Jesko is moving with very high speed\")\n",
    "\n",
    "my_car = Car()\n",
    "my_car.drive()"
   ]
  },
  {
   "cell_type": "markdown",
   "id": "6ed88150",
   "metadata": {},
   "source": [
    "# Objects : It is an instance of a class."
   ]
  },
  {
   "cell_type": "code",
   "execution_count": 5,
   "id": "9f5e9280",
   "metadata": {},
   "outputs": [
    {
     "name": "stdout",
     "output_type": "stream",
     "text": [
      "Light is ON\n"
     ]
    }
   ],
   "source": [
    "class Light:\n",
    "    def turn_on(self):\n",
    "        print(\"Light is ON\")\n",
    "\n",
    "# Create an object of Light\n",
    "my_light = Light()\n",
    "my_light.turn_on()"
   ]
  },
  {
   "cell_type": "markdown",
   "id": "1ed3a953",
   "metadata": {},
   "source": [
    "# Methods : It is function inside a class that tells an object what to do."
   ]
  },
  {
   "cell_type": "code",
   "execution_count": 9,
   "id": "b4868a7f",
   "metadata": {},
   "outputs": [
    {
     "name": "stdout",
     "output_type": "stream",
     "text": [
      "Car started!\n"
     ]
    }
   ],
   "source": [
    "class Car:\n",
    "    def start(self):\n",
    "        print(\"Car started!\")\n",
    "\n",
    "my_car = Car()\n",
    "my_car.start()"
   ]
  },
  {
   "cell_type": "markdown",
   "id": "76d581b1",
   "metadata": {},
   "source": [
    "# Attributes : It is like property or thing that an object has."
   ]
  },
  {
   "cell_type": "code",
   "execution_count": 10,
   "id": "5d31c699",
   "metadata": {},
   "outputs": [
    {
     "name": "stdout",
     "output_type": "stream",
     "text": [
      "Apple\n"
     ]
    }
   ],
   "source": [
    "class Phone:\n",
    "    def __init__(self, brand):\n",
    "        self.brand = brand  # attribute\n",
    "\n",
    "my_phone = Phone(\"Apple\")\n",
    "print(my_phone.brand)"
   ]
  },
  {
   "cell_type": "markdown",
   "id": "d019b7c3",
   "metadata": {},
   "source": [
    "# Challenge : Create a Car class with attributes and a display method"
   ]
  },
  {
   "cell_type": "code",
   "execution_count": 13,
   "id": "ae098f28",
   "metadata": {},
   "outputs": [
    {
     "name": "stdout",
     "output_type": "stream",
     "text": [
      "Brand: Koenigsegg Jesko, Color: Yellow\n"
     ]
    }
   ],
   "source": [
    "class Car:\n",
    "    def __init__(self, brand, color):\n",
    "        self.brand = brand\n",
    "        self.color = color\n",
    "\n",
    "    def display(self):\n",
    "        print(f\"Brand: {self.brand}, Color: {self.color}\")\n",
    "        \n",
    "my_car = Car(\"Koenigsegg Jesko\", \"Yellow\")\n",
    "my_car.display()"
   ]
  }
 ],
 "metadata": {
  "kernelspec": {
   "display_name": "base",
   "language": "python",
   "name": "python3"
  },
  "language_info": {
   "codemirror_mode": {
    "name": "ipython",
    "version": 3
   },
   "file_extension": ".py",
   "mimetype": "text/x-python",
   "name": "python",
   "nbconvert_exporter": "python",
   "pygments_lexer": "ipython3",
   "version": "3.12.7"
  }
 },
 "nbformat": 4,
 "nbformat_minor": 5
}
